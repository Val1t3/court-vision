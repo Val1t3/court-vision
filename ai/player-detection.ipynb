{
 "cells": [
  {
   "cell_type": "markdown",
   "metadata": {},
   "source": [
    "# Player Detection"
   ]
  },
  {
   "cell_type": "code",
   "execution_count": 1,
   "metadata": {},
   "outputs": [
    {
     "name": "stdout",
     "output_type": "stream",
     "text": [
      "Requirement already satisfied: opencv-python in /Users/val1t3/Code/Kent/court-vision/.venv/lib/python3.12/site-packages (4.11.0.86)\n",
      "Requirement already satisfied: torch in /Users/val1t3/Code/Kent/court-vision/.venv/lib/python3.12/site-packages (2.6.0)\n",
      "Requirement already satisfied: ultralytics in /Users/val1t3/Code/Kent/court-vision/.venv/lib/python3.12/site-packages (8.3.84)\n",
      "Requirement already satisfied: numpy in /Users/val1t3/Code/Kent/court-vision/.venv/lib/python3.12/site-packages (2.1.1)\n",
      "Requirement already satisfied: scikit-learn in /Users/val1t3/Code/Kent/court-vision/.venv/lib/python3.12/site-packages (1.6.1)\n",
      "Requirement already satisfied: filelock in /Users/val1t3/Code/Kent/court-vision/.venv/lib/python3.12/site-packages (from torch) (3.17.0)\n",
      "Requirement already satisfied: typing-extensions>=4.10.0 in /Users/val1t3/Code/Kent/court-vision/.venv/lib/python3.12/site-packages (from torch) (4.12.2)\n",
      "Requirement already satisfied: networkx in /Users/val1t3/Code/Kent/court-vision/.venv/lib/python3.12/site-packages (from torch) (3.4.2)\n",
      "Requirement already satisfied: jinja2 in /Users/val1t3/Code/Kent/court-vision/.venv/lib/python3.12/site-packages (from torch) (3.1.6)\n",
      "Requirement already satisfied: fsspec in /Users/val1t3/Code/Kent/court-vision/.venv/lib/python3.12/site-packages (from torch) (2025.2.0)\n",
      "Requirement already satisfied: setuptools in /Users/val1t3/Code/Kent/court-vision/.venv/lib/python3.12/site-packages (from torch) (75.8.2)\n",
      "Requirement already satisfied: sympy==1.13.1 in /Users/val1t3/Code/Kent/court-vision/.venv/lib/python3.12/site-packages (from torch) (1.13.1)\n",
      "Requirement already satisfied: mpmath<1.4,>=1.1.0 in /Users/val1t3/Code/Kent/court-vision/.venv/lib/python3.12/site-packages (from sympy==1.13.1->torch) (1.3.0)\n",
      "Requirement already satisfied: matplotlib>=3.3.0 in /Users/val1t3/Code/Kent/court-vision/.venv/lib/python3.12/site-packages (from ultralytics) (3.10.1)\n",
      "Requirement already satisfied: pillow>=7.1.2 in /Users/val1t3/Code/Kent/court-vision/.venv/lib/python3.12/site-packages (from ultralytics) (11.1.0)\n",
      "Requirement already satisfied: pyyaml>=5.3.1 in /Users/val1t3/Code/Kent/court-vision/.venv/lib/python3.12/site-packages (from ultralytics) (6.0.2)\n",
      "Requirement already satisfied: requests>=2.23.0 in /Users/val1t3/Code/Kent/court-vision/.venv/lib/python3.12/site-packages (from ultralytics) (2.32.3)\n",
      "Requirement already satisfied: scipy>=1.4.1 in /Users/val1t3/Code/Kent/court-vision/.venv/lib/python3.12/site-packages (from ultralytics) (1.15.2)\n",
      "Requirement already satisfied: torchvision>=0.9.0 in /Users/val1t3/Code/Kent/court-vision/.venv/lib/python3.12/site-packages (from ultralytics) (0.21.0)\n",
      "Requirement already satisfied: tqdm>=4.64.0 in /Users/val1t3/Code/Kent/court-vision/.venv/lib/python3.12/site-packages (from ultralytics) (4.67.1)\n",
      "Requirement already satisfied: psutil in /Users/val1t3/Code/Kent/court-vision/.venv/lib/python3.12/site-packages (from ultralytics) (7.0.0)\n",
      "Requirement already satisfied: py-cpuinfo in /Users/val1t3/Code/Kent/court-vision/.venv/lib/python3.12/site-packages (from ultralytics) (9.0.0)\n",
      "Requirement already satisfied: pandas>=1.1.4 in /Users/val1t3/Code/Kent/court-vision/.venv/lib/python3.12/site-packages (from ultralytics) (2.2.3)\n",
      "Requirement already satisfied: seaborn>=0.11.0 in /Users/val1t3/Code/Kent/court-vision/.venv/lib/python3.12/site-packages (from ultralytics) (0.13.2)\n",
      "Requirement already satisfied: ultralytics-thop>=2.0.0 in /Users/val1t3/Code/Kent/court-vision/.venv/lib/python3.12/site-packages (from ultralytics) (2.0.14)\n",
      "Requirement already satisfied: joblib>=1.2.0 in /Users/val1t3/Code/Kent/court-vision/.venv/lib/python3.12/site-packages (from scikit-learn) (1.4.2)\n",
      "Requirement already satisfied: threadpoolctl>=3.1.0 in /Users/val1t3/Code/Kent/court-vision/.venv/lib/python3.12/site-packages (from scikit-learn) (3.5.0)\n",
      "Requirement already satisfied: contourpy>=1.0.1 in /Users/val1t3/Code/Kent/court-vision/.venv/lib/python3.12/site-packages (from matplotlib>=3.3.0->ultralytics) (1.3.1)\n",
      "Requirement already satisfied: cycler>=0.10 in /Users/val1t3/Code/Kent/court-vision/.venv/lib/python3.12/site-packages (from matplotlib>=3.3.0->ultralytics) (0.12.1)\n",
      "Requirement already satisfied: fonttools>=4.22.0 in /Users/val1t3/Code/Kent/court-vision/.venv/lib/python3.12/site-packages (from matplotlib>=3.3.0->ultralytics) (4.56.0)\n",
      "Requirement already satisfied: kiwisolver>=1.3.1 in /Users/val1t3/Code/Kent/court-vision/.venv/lib/python3.12/site-packages (from matplotlib>=3.3.0->ultralytics) (1.4.8)\n",
      "Requirement already satisfied: packaging>=20.0 in /Users/val1t3/Code/Kent/court-vision/.venv/lib/python3.12/site-packages (from matplotlib>=3.3.0->ultralytics) (24.2)\n",
      "Requirement already satisfied: pyparsing>=2.3.1 in /Users/val1t3/Code/Kent/court-vision/.venv/lib/python3.12/site-packages (from matplotlib>=3.3.0->ultralytics) (3.2.1)\n",
      "Requirement already satisfied: python-dateutil>=2.7 in /Users/val1t3/Code/Kent/court-vision/.venv/lib/python3.12/site-packages (from matplotlib>=3.3.0->ultralytics) (2.9.0.post0)\n",
      "Requirement already satisfied: pytz>=2020.1 in /Users/val1t3/Code/Kent/court-vision/.venv/lib/python3.12/site-packages (from pandas>=1.1.4->ultralytics) (2025.1)\n",
      "Requirement already satisfied: tzdata>=2022.7 in /Users/val1t3/Code/Kent/court-vision/.venv/lib/python3.12/site-packages (from pandas>=1.1.4->ultralytics) (2025.1)\n",
      "Requirement already satisfied: charset-normalizer<4,>=2 in /Users/val1t3/Code/Kent/court-vision/.venv/lib/python3.12/site-packages (from requests>=2.23.0->ultralytics) (3.4.1)\n",
      "Requirement already satisfied: idna<4,>=2.5 in /Users/val1t3/Code/Kent/court-vision/.venv/lib/python3.12/site-packages (from requests>=2.23.0->ultralytics) (3.10)\n",
      "Requirement already satisfied: urllib3<3,>=1.21.1 in /Users/val1t3/Code/Kent/court-vision/.venv/lib/python3.12/site-packages (from requests>=2.23.0->ultralytics) (2.3.0)\n",
      "Requirement already satisfied: certifi>=2017.4.17 in /Users/val1t3/Code/Kent/court-vision/.venv/lib/python3.12/site-packages (from requests>=2.23.0->ultralytics) (2025.1.31)\n",
      "Requirement already satisfied: MarkupSafe>=2.0 in /Users/val1t3/Code/Kent/court-vision/.venv/lib/python3.12/site-packages (from jinja2->torch) (3.0.2)\n",
      "Requirement already satisfied: six>=1.5 in /Users/val1t3/Code/Kent/court-vision/.venv/lib/python3.12/site-packages (from python-dateutil>=2.7->matplotlib>=3.3.0->ultralytics) (1.17.0)\n",
      "Note: you may need to restart the kernel to use updated packages.\n"
     ]
    }
   ],
   "source": [
    "# Imports\n",
    "%pip install opencv-python torch ultralytics numpy scikit-learn\n",
    "\n",
    "import cv2\n",
    "import torch\n",
    "import numpy as np\n",
    "from sklearn.cluster import KMeans\n"
   ]
  },
  {
   "cell_type": "markdown",
   "metadata": {},
   "source": [
    "**Use Uniform Color Filtering (Team Segmentation):**\n",
    "\n",
    "- After detecting all humans using YOLOv8n, apply color-based segmentation on their jerseys.\n",
    "- Use HVS color space to detect dominant jersey colors.\n",
    "- Cluster similar colors using K-means to separate two teams."
   ]
  },
  {
   "cell_type": "markdown",
   "metadata": {},
   "source": [
    "## 1. Detect all humans using YOLO"
   ]
  },
  {
   "cell_type": "code",
   "execution_count": null,
   "metadata": {},
   "outputs": [],
   "source": [
    "# Constants\n",
    "IMAGE_PATH = \"basketball_game.jpg\""
   ]
  },
  {
   "cell_type": "code",
   "execution_count": null,
   "metadata": {},
   "outputs": [],
   "source": [
    "# Load YOLOv8 model\n",
    "model = torch.hub.load('ultralytics/yolov8', 'yolov8n')\n",
    "\n",
    "# Load Image\n",
    "image = cv2.imread(IMAGE_PATH)\n",
    "results = model(image)\n",
    "\n",
    "# Extract bounding boxes of detected persons\n",
    "players = []\n",
    "for result in results.xyxy[0]:  # Iterate over detected objects\n",
    "    x1, y1, x2, y2, conf, class_id = result.tolist()\n",
    "    if class_id == 0:  # Class 0 in COCO is 'person'\n",
    "        players.append((int(x1), int(y1), int(x2), int(y2)))"
   ]
  },
  {
   "cell_type": "markdown",
   "metadata": {},
   "source": [
    "## 2. Extract the jersey color of each detected player"
   ]
  },
  {
   "cell_type": "markdown",
   "metadata": {},
   "source": []
  }
 ],
 "metadata": {
  "kernelspec": {
   "display_name": ".venv",
   "language": "python",
   "name": "python3"
  },
  "language_info": {
   "codemirror_mode": {
    "name": "ipython",
    "version": 3
   },
   "file_extension": ".py",
   "mimetype": "text/x-python",
   "name": "python",
   "nbconvert_exporter": "python",
   "pygments_lexer": "ipython3",
   "version": "3.12.7"
  }
 },
 "nbformat": 4,
 "nbformat_minor": 2
}
