{
 "cells": [
  {
   "cell_type": "markdown",
   "metadata": {},
   "source": [
    "# Baseline Detection"
   ]
  },
  {
   "cell_type": "markdown",
   "metadata": {},
   "source": [
    "**Todo:**\n",
    "- [ ] Create a dataset of images with the baseline\n",
    "- [ ] Define important points to detect (need 4 fix points to applied homography)\n",
    "- [ ] Set up Interpolation and Estimation for Missing Points\n",
    "- [ ] Apply Homography to get the bird's eye view\n",
    "\n",
    "- [ ] Apply Line Detection to get the baseline"
   ]
  },
  {
   "cell_type": "markdown",
   "metadata": {},
   "source": []
  }
 ],
 "metadata": {
  "language_info": {
   "name": "python"
  }
 },
 "nbformat": 4,
 "nbformat_minor": 2
}
